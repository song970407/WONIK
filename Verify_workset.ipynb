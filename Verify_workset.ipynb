{
 "cells": [
  {
   "cell_type": "code",
   "execution_count": null,
   "metadata": {
    "ExecuteTime": {
     "end_time": "2021-02-22T09:01:11.044290Z",
     "start_time": "2021-02-22T09:01:10.431908Z"
    }
   },
   "outputs": [],
   "source": [
    "import torch\n",
    "import numpy as np\n",
    "from box import Box\n",
    "import matplotlib.pyplot as plt\n",
    "\n",
    "from GraphPreCo import get_model\n",
    "from src.utils.PreCo.load_data import load_data, load_validate_data\n",
    "\n",
    "from src.model.get_model import get_reparam_multi_linear_model\n",
    "from src.utils.load_data import load_data as load_data_multistep_linear\n",
    "from src.utils.data_preprocess import get_data\n",
    "\n",
    "device = 'cuda' if torch.cuda.is_available() else 'cpu'\n",
    "print(device)"
   ]
  },
  {
   "cell_type": "code",
   "execution_count": null,
   "metadata": {},
   "outputs": [],
   "source": [
    "def plot_ICPreCo(file_src, horizon, data_src, rand_idx):\n",
    "    config_filename = 'model/ICPreCo/model_config.yaml'\n",
    "    config = Box.from_yaml(filename=config_filename)\n",
    "    m = get_model(config).to(device)\n",
    "    model_filename = 'model/ICPreCo/model.pt'\n",
    "    m.load_state_dict(torch.load(model_filename, map_location=device))\n",
    "    m.eval()\n",
    "\n",
    "    history_len = config.train.history_len  # 20\n",
    "    future_len = config.train.future_len  # 20\n",
    "    future_len = horizon  # 10\n",
    "    action_ws = config.data.action_ws if config.data.get('action_ws') else True\n",
    "\n",
    "    _, _, _, _, train_info = load_data(paths=config.data.train_path,\n",
    "                                       history_len=history_len,\n",
    "                                       future_len=future_len,\n",
    "                                       action_ws=action_ws,\n",
    "                                       scaling=config.data.scaling)\n",
    "\n",
    "    hist_x, future_x, hist_u, future_u, _ = load_validate_data(paths=file_src,\n",
    "                                                               history_len=history_len,\n",
    "                                                               future_len=future_len,\n",
    "                                                               action_ws=action_ws,\n",
    "                                                               scaling=False,\n",
    "                                                               device=device)\n",
    "    data = torch.load(data_src, map_location=device)\n",
    "    data = data[:, :, 0, 0].cpu().detach().numpy()\n",
    "    future_u = future_u[:, :, 0, 0].cpu().detach().numpy()\n",
    "    \n",
    "    row = 2\n",
    "    col = 5\n",
    "    figsize = 5\n",
    "    fig, ax = plt.subplots(row, col, figsize=(col*figsize, row*figsize))\n",
    "    axe_flatten = ax.flatten()\n",
    "    for i, idx in enumerate(rand_idx):\n",
    "        axe_flatten[i].set_title('Zone '+str(idx+1))\n",
    "        axe_flatten[i].set_ylim((140, 400))\n",
    "        axe_flatten[i].plot(future_u[:, idx], label='WONIK')\n",
    "        axe_flatten[i].plot(data[:, idx], label='Experiment')\n",
    "        axe_flatten[i].legend()"
   ]
  },
  {
   "cell_type": "code",
   "execution_count": null,
   "metadata": {},
   "outputs": [],
   "source": [
    "def plot_multistep_linear(file_src, horizon, data_src, rand_idx):\n",
    "    state_dim = 140\n",
    "    action_dim = 40\n",
    "    state_order = 5\n",
    "    action_order = 5\n",
    "    alpha = 0.001  # Workset smoothness\n",
    "    time_limit = 5  # seconds\n",
    "    train_data_path = ['docs/new_data/expert/data_1.csv', 'docs/new_data/expert/data_2.csv']\n",
    "\n",
    "    m = get_reparam_multi_linear_model(state_dim, action_dim, state_order, action_order)\n",
    "    model_filename = 'model/Multistep_linear/model_reparam_55.pt'\n",
    "    m.load_state_dict(torch.load(model_filename, map_location=device))\n",
    "    m.eval()\n",
    "\n",
    "    train_states, train_actions, info = load_data_multistep_linear(paths=train_data_path,\n",
    "                                                                   scaling=True,\n",
    "                                                                   preprocess=True,\n",
    "                                                                   history_x=state_order,\n",
    "                                                                   history_u=action_order)\n",
    "    scaler = (info['scale_min'].item(), info['scale_max'].item())\n",
    "    #print(train_states[0].shape)\n",
    "    #print(train_actions[0].shape)\n",
    "    #print('Min. state scaler: {}, Max. state scaler: {}'.format(scaler[0], scaler[1]))\n",
    "    #print('Min. action scaler: {}, Max. action scaler: {}'.format(scaler[0], scaler[1]))\n",
    "\n",
    "    validate_states, validate_actions, _ = load_data_multistep_linear(paths=file_src,\n",
    "                                                                      scaling=False,\n",
    "                                                                      preprocess=True,\n",
    "                                                                      history_x=state_order,\n",
    "                                                                      history_u=action_order,\n",
    "                                                                      device=device)\n",
    "    validate_states = validate_states[0][:, :state_dim]\n",
    "    validate_actions = validate_actions[0]\n",
    "    data = torch.load(data_src, map_location=device)\n",
    "    data = data[:, 0, :].cpu().detach().numpy()\n",
    "    validate_actions = validate_actions[:data.shape[0], :].cpu().detach().numpy()\n",
    "    row = 2\n",
    "    col = 5\n",
    "    figsize = 5\n",
    "    fig, ax = plt.subplots(row, col, figsize=(col*figsize, row*figsize))\n",
    "    axe_flatten = ax.flatten()\n",
    "    for i, idx in enumerate(rand_idx):\n",
    "        axe_flatten[i].set_title('Zone '+str(idx+1))\n",
    "        axe_flatten[i].set_ylim((140, 400))\n",
    "        axe_flatten[i].plot(validate_actions[:, idx], label='WONIK')\n",
    "        axe_flatten[i].plot(data[:, idx], label='Experiment')\n",
    "        axe_flatten[i].legend()\n",
    "    \n",
    "    "
   ]
  },
  {
   "cell_type": "code",
   "execution_count": null,
   "metadata": {
    "scrolled": false
   },
   "outputs": [],
   "source": [
    "ICPreCo_src = ['experiment_result/ICPreCo_01.csv', 'experiment_result/ICPreCo_02.csv']\n",
    "ICPreCo_workset_src = ['validate_workset/ICPreCo_01_WS.pt', 'validate_workset/ICPreCo_02_WS.pt']\n",
    "ICPreCo_hs = [10, 70]\n",
    "multistep_linear_src = ['experiment_result/Multistep_Linear_01.csv', 'experiment_result/Multistep_Linear_02.csv',\n",
    "                         'experiment_result/Multistep_Linear_03.csv']\n",
    "multistep_hs = [10, 50, 75]\n",
    "multistep_linear_workset_src = ['validate_workset/multistep_linear_01_WS.pt', 'validate_workset/multistep_linear_02_WS.pt',\n",
    "                                'validate_workset/multistep_linear_03_WS.pt']\n",
    "random_idx = np.random.permutation(np.arange(40))[:10]"
   ]
  },
  {
   "cell_type": "code",
   "execution_count": null,
   "metadata": {},
   "outputs": [],
   "source": [
    "i=0\n",
    "plot_ICPreCo(ICPreCo_src[i], ICPreCo_hs[i], ICPreCo_workset_src[i], random_idx)"
   ]
  },
  {
   "cell_type": "code",
   "execution_count": null,
   "metadata": {},
   "outputs": [],
   "source": [
    "i=1\n",
    "plot_ICPreCo(ICPreCo_src[i], ICPreCo_hs[i], ICPreCo_workset_src[i], random_idx)"
   ]
  },
  {
   "cell_type": "code",
   "execution_count": null,
   "metadata": {},
   "outputs": [],
   "source": [
    "i=0\n",
    "plot_multistep_linear(multistep_linear_src[i], Hs[i], multistep_linear_workset_src[i], random_idx)"
   ]
  },
  {
   "cell_type": "code",
   "execution_count": null,
   "metadata": {},
   "outputs": [],
   "source": [
    "i=1\n",
    "plot_multistep_linear(multistep_linear_src[i], Hs[i], multistep_linear_workset_src[i], random_idx)"
   ]
  },
  {
   "cell_type": "code",
   "execution_count": null,
   "metadata": {},
   "outputs": [],
   "source": [
    "i=2\n",
    "plot_multistep_linear(multistep_linear_src[i], Hs[i], multistep_linear_workset_src[i], random_idx)"
   ]
  }
 ],
 "metadata": {
  "kernelspec": {
   "display_name": "Python 3",
   "language": "python",
   "name": "python3"
  },
  "language_info": {
   "codemirror_mode": {
    "name": "ipython",
    "version": 3
   },
   "file_extension": ".py",
   "mimetype": "text/x-python",
   "name": "python",
   "nbconvert_exporter": "python",
   "pygments_lexer": "ipython3",
   "version": "3.8.5"
  },
  "toc": {
   "base_numbering": 1,
   "nav_menu": {},
   "number_sections": false,
   "sideBar": true,
   "skip_h1_title": false,
   "title_cell": "Table of Contents",
   "title_sidebar": "Contents",
   "toc_cell": false,
   "toc_position": {},
   "toc_section_display": true,
   "toc_window_display": false
  }
 },
 "nbformat": 4,
 "nbformat_minor": 4
}
